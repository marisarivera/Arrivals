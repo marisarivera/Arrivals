{
 "cells": [
  {
   "cell_type": "markdown",
   "metadata": {
    "collapsed": true
   },
   "source": [
    "# ANÁLISIS PRELIMINAR DEL DATASET \"ARRIVALS\""
   ]
  },
  {
   "cell_type": "markdown",
   "metadata": {},
   "source": [
    "### PRIMERA OPCIÓN: _ARRIVALS_"
   ]
  },
  {
   "cell_type": "markdown",
   "metadata": {},
   "source": [
    "### ESTRUCTURA Y CLASIFICACIÓN DE VARIABLES\n",
    "*VARIABLES CUALITATIVAS*\n",
    ">**COD Alpha**: Alpha Code for Country of Dispatch <br>\n",
    ">**COO Alpha**: Alpha code for Country of Origin, which is the country where the goods were originally produced, and it may be different from the Country of Dispatch\n",
    "\n",
    "*VARIABLES CUANTITATIVAS*\n",
    ">**Commodity Code**: 9 digit commodity code, where digits 1-8 are the Combined Nomenclature (CN) code and digit 9 is 0 (formerly national sub-division) <br>\n",
    ">**Record Type**: Range 0-3 identifies the kind of suppression record <br>\n",
    ">**COD Sequence**: Numeric sequence for Country of Dispatch <br>\n",
    ">**Trade Indicator**: A code used to identify the type of trade. Code is used in conjunction with Suite Indicator to select appropriate items for General and Special trade compilations. Indicators are: [5] - removal from warehouse into free circulation, [4] - import into warehouse (goods not in free circulation), [0] - all other items <br>\n",
    ">**COO Sequence**: Numeric sequence for Country of Origin <br>\n",
    ">**Nature of Transaction**: Codes used for EU (Intrastat) trade only, describing the type of transaction <br>\n",
    ">**Mode of Transport**: Mode of transport by which goods leave or arrive in the UK <br>\n",
    ">**Period Reference**: Identifies the month of account of an item in format 0YYYYMM. For non-amendment records this will be the same as the file month; for amendment records and late supplementary declarations it will be the month to which the amendment or supplementary declaration relates <br>\n",
    ">**Suite Indicator**: Identifies commodity codes to be excluded from General and Special trade compilations: [00] - trade commodity codes, [03] - no longer used, [04] - no longer used, [08] - non-monetary gold excluded from General Trade, [09] - monetary gold and gold coin excluded from General and Special Trade <br>\n",
    ">**SITC-5**: Standard International Trade Classification - a United Nations commodity classification system based on a five digit numeric code. Current version is ‘Revision 4’. Each 8 digit Combined Nomenclature code correlates to an SITC 5 digit code. SITC data is commonly published at different levels. Each level is designated as follows: [1st digit] - Section, [2nd digit] - Division, [3rd digit] - Group, [4th digit] - Sub-group, [5th digit] - Item <br>\n",
    ">**IP Commodity Code**: A pseudo concessionary comcode beginning 98 used for declaration of high value Industrial Plant <br>\n",
    ">**Number of Consignments**: Optional field used to indicate the number of consignments <br>\n",
    ">**Stat Value**: Invoice or contract price of the goods (£ sterling) as used for statistical purposes. The import value is the value of the goods including the cost, insurance and freight <br>\n",
    ">**Net Mass**: Weight of the item in kilograms excluding packaging <br>\n",
    ">**Supp Unit**: Second quantity (e.g. number) required for certain commodities, as specified in the Tariff/ICN <br>\n",
    ">**File Month**: File Month <br>\n",
    ">**File Year**: File Year <br>\n",
    ">**Serialid**: Serialid"
   ]
  },
  {
   "cell_type": "markdown",
   "metadata": {},
   "source": [
    "### 10 VARIABLES DE INTERÉS\n",
    ">**Commodity Code**: 9 digit commodity code, where digits 1-8 are the Combined Nomenclature (CN) code and digit 9 is 0 (formerly national sub-division) <br>\n",
    ">**COD Alpha**: Alpha Code for Country of Dispatch <br>\n",
    ">**Nature of Transaction**: Codes used for EU (Intrastat) trade only, describing the type of transaction <br>\n",
    ">**Period Reference**: Identifies the month of account of an item in format 0YYYYMM. For non-amendment records this will be the same as the file month; for amendment records and late supplementary declarations it will be the month to which the amendment or supplementary declaration relates <br>\n",
    ">**SITC-5**: Standard International Trade Classification - a United Nations commodity classification system based on a five digit numeric code. Current version is ‘Revision 4’. Each 8 digit Combined Nomenclature code correlates to an SITC 5 digit code. SITC data is commonly published at different levels. Each level is designated as follows: [1st digit] - Section, [2nd digit] - Division, [3rd digit] - Group, [4th digit] - Sub-group, [5th digit] - Item <br>\n",
    ">**Number of Consignments**: Optional field used to indicate the number of consignments <br>\n",
    ">**Stat Value**: Invoice or contract price of the goods (£ sterling) as used for statistical purposes. The import value is the value of the goods including the cost, insurance and freight <br>\n",
    ">**Net Mass**: Weight of the item in kilograms excluding packaging <br>\n",
    ">**Supp Unit**: Second quantity (e.g. number) required for certain commodities, as specified in the Tariff/ICN <br>\n",
    ">**File Month**: File Month <br>"
   ]
  }
 ],
 "metadata": {
  "kernelspec": {
   "display_name": "Python 3",
   "language": "python",
   "name": "python3"
  },
  "language_info": {
   "codemirror_mode": {
    "name": "ipython",
    "version": 3
   },
   "file_extension": ".py",
   "mimetype": "text/x-python",
   "name": "python",
   "nbconvert_exporter": "python",
   "pygments_lexer": "ipython3",
   "version": "3.5.1"
  }
 },
 "nbformat": 4,
 "nbformat_minor": 0
}
